{
 "cells": [
  {
   "cell_type": "markdown",
   "metadata": {},
   "source": [
    "# 2019 OEC Java Parent Demo"
   ]
  },
  {
   "cell_type": "markdown",
   "metadata": {},
   "source": [
    "**Problem 1**"
   ]
  },
  {
   "cell_type": "code",
   "execution_count": 34,
   "metadata": {},
   "outputs": [],
   "source": [
    "/*Write a program that does the following:*/\n",
    "//Given five positive decimal numbers:\n",
    "//1) Store and print each number\n",
    "//2) Convert each number to the nearest integer\n",
    "//3) Print the sum and average of the five integers\n",
    "\n",
    "//Example \n",
    "//input: 10.5, 0.4, 2.3, 9.9, 4.6\n",
    "//Sum: 28   Avg: 5\n",
    "\n",
    "//Your code below\n",
    "do"
   ]
  },
  {
   "cell_type": "markdown",
   "metadata": {},
   "source": [
    "**Problem 2**"
   ]
  },
  {
   "cell_type": "code",
   "execution_count": 33,
   "metadata": {},
   "outputs": [
    {
     "name": "stdout",
     "output_type": "stream",
     "text": [
      "Your answer: Write some code | Correct answer: Allowed\n",
      "Your answer: Write some code | Correct answer: Not Allowed\n",
      "Your answer: Write some code | Correct answer: Not Allowed\n",
      "Your answer: Write some code | Correct answer: Allowed\n",
      "Your answer: Write some code | Correct answer: Not Allowed\n",
      "Your answer: Write some code | Correct answer: Allowed\n",
      "Your answer: Write some code | Correct answer: Not Allowed\n"
     ]
    }
   ],
   "source": [
    "//The permission a child has to ride a coaster\n",
    "//at the local theme park is dependent on the \n",
    "//child's height.\n",
    "//A child is either allowed to ride, is not\n",
    "//allowed to ride, or is allowed to ride as\n",
    "//long as a parent or guardian tags along.\n",
    "\n",
    "//Given the following class, determine if a child\n",
    "//is allowed to ride the coaster if the rules are:\n",
    "//1) Not allowed to ride if below 36 inches\n",
    "//2) Allowed to ride if between 36 and 48 inches\n",
    "//   as long as a parent is present\n",
    "//3) Allowed to ride if taller than 48 inches\n",
    "\n",
    "//Complete the function canRide(). \n",
    "//Do not change the signature.\n",
    "//You should return \"Allowed\" or \"Not Allowed\" based\n",
    "//on the rules above.\n",
    "\n",
    "class Child {\n",
    "\n",
    "    public int height;\n",
    "    public boolean withParent;\n",
    "    \n",
    "    public Child(int h, boolean wp) {\n",
    "        this.height = h;\n",
    "        this.withParent = wp;\n",
    "    }\n",
    "    \n",
    "    public String canRide() {\n",
    "        /***Your code below***/\n",
    "        \n",
    "        /***Your code above***/\n",
    "    }\n",
    "}\n",
    "\n",
    "/***********Test Cases************/\n",
    "Child stephen = new Child(49, true);\n",
    "System.out.println(\"Your answer: \" + stephen.canRide() + \" | Correct answer: Allowed\");\n",
    "Child elena = new Child(48, false);\n",
    "System.out.println(\"Your answer: \" + elena.canRide() + \" | Correct answer: Not Allowed\");\n",
    "Child patricia = new Child(35, true);\n",
    "System.out.println(\"Your answer: \" + patricia.canRide() + \" | Correct answer: Not Allowed\");\n",
    "Child nadia = new Child(48, true);\n",
    "System.out.println(\"Your answer: \" + nadia.canRide() + \" | Correct answer: Allowed\");\n",
    "Child patrick = new Child(36, false);\n",
    "System.out.println(\"Your answer: \" + patrick.canRide() + \" | Correct answer: Not Allowed\");\n",
    "Child ned = new Child(36, true);\n",
    "System.out.println(\"Your answer: \" + ned.canRide() + \" | Correct answer: Allowed\");\n",
    "Child natasha = new Child(40, false);\n",
    "System.out.println(\"Your answer: \" + natasha.canRide() + \" | Correct answer: Not Allowed\");\n"
   ]
  },
  {
   "cell_type": "markdown",
   "metadata": {},
   "source": [
    "**Problem 3**"
   ]
  },
  {
   "cell_type": "code",
   "execution_count": 30,
   "metadata": {},
   "outputs": [],
   "source": [
    "/******Cash Register******\n",
    "*  To make a profit, a local store marks up\n",
    "*  the prices of it's items by a certain percentage.\n",
    "*  Write a program that reads the original price of\n",
    "*  the item sold, the percentage of the marked-up price,\n",
    "*  and the sales tax rate. The program then outputs the \n",
    "*  original price of the item, the store's selling price,\n",
    "*  and the final price of the item.\n",
    "*/\n",
    "\n",
    "/*Example:\n",
    "* Original price: 9.99, mark up: 3%, sales tax: 9%\n",
    "*\n",
    "* Results:\n",
    "* Original price: 9.99, marked up price: 10.29,\n",
    "* Final price: 11.22\n",
    "*/\n",
    "\n",
    "//Your code below."
   ]
  },
  {
   "cell_type": "markdown",
   "metadata": {},
   "source": [
    "**Challenge Problem**\n",
    "\n",
    "Write a \"simulation\" of the game Odds and Evens.<br>\n",
    "You can find the rules of the game on Wikipeida:<br>\n",
    "https://en.wikipedia.org/wiki/Odds_and_evens_(hand_game)#Playing\n",
    "\n",
    "You should define 2 classes: one class to represent players,<br>\n",
    "and another to control the simulation."
   ]
  },
  {
   "cell_type": "code",
   "execution_count": null,
   "metadata": {},
   "outputs": [],
   "source": [
    "//Your code below."
   ]
  }
 ],
 "metadata": {
  "kernelspec": {
   "display_name": "Java",
   "language": "java",
   "name": "java"
  },
  "language_info": {
   "codemirror_mode": "java",
   "file_extension": ".jshell",
   "mimetype": "text/x-java-source",
   "name": "Java",
   "pygments_lexer": "java",
   "version": "12.0.1+12"
  }
 },
 "nbformat": 4,
 "nbformat_minor": 2
}
